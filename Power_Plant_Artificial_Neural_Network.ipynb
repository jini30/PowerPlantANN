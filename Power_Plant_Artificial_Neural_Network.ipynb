{
  "nbformat": 4,
  "nbformat_minor": 0,
  "metadata": {
    "colab": {
      "provenance": [],
      "toc_visible": true
    },
    "kernelspec": {
      "name": "python3",
      "display_name": "Python 3"
    }
  },
  "cells": [
    {
      "cell_type": "markdown",
      "metadata": {
        "id": "3cbb7fRy-eyr"
      },
      "source": [
        "# Artificial Neural Network"
      ]
    },
    {
      "cell_type": "markdown",
      "metadata": {
        "id": "8sNDnxE2-pwE"
      },
      "source": [
        "### Importing the libraries"
      ]
    },
    {
      "cell_type": "code",
      "source": [
        "import numpy as np\n",
        "import pandas as pd\n",
        "import tensorflow as tf"
      ],
      "metadata": {
        "id": "sKTXnZTM_FC4"
      },
      "execution_count": null,
      "outputs": []
    },
    {
      "cell_type": "markdown",
      "metadata": {
        "id": "AG3FQEch-yuA"
      },
      "source": [
        "## Part 1 - Data Preprocessing"
      ]
    },
    {
      "cell_type": "markdown",
      "metadata": {
        "id": "-4zq8Mza_D9O"
      },
      "source": [
        "### Importing the dataset"
      ]
    },
    {
      "cell_type": "code",
      "source": [
        "dataset = pd.read_excel('Folds5x2_pp.xlsx')\n",
        "x = dataset.iloc[:, :-1].values\n",
        "y = dataset.iloc[:, -1].values"
      ],
      "metadata": {
        "id": "gHW8_xxg_Wi4"
      },
      "execution_count": null,
      "outputs": []
    },
    {
      "cell_type": "markdown",
      "metadata": {
        "id": "VC6omXel_Up0"
      },
      "source": [
        "### Splitting the dataset into the Training set and Test set"
      ]
    },
    {
      "cell_type": "code",
      "source": [
        "from sklearn.model_selection import train_test_split\n",
        "x_train, x_test, y_train, y_test = train_test_split(x, y, test_size = 0.2, random_state = 0)"
      ],
      "metadata": {
        "id": "bQ34O6tSAKSl"
      },
      "execution_count": null,
      "outputs": []
    },
    {
      "cell_type": "markdown",
      "metadata": {
        "id": "_mSLlAT9_eyI"
      },
      "source": [
        "## Part 2 - Building the ANN"
      ]
    },
    {
      "cell_type": "markdown",
      "metadata": {
        "id": "CsBULd_f_wLY"
      },
      "source": [
        "### Initializing the ANN"
      ]
    },
    {
      "cell_type": "code",
      "source": [
        "ann = tf.keras.models.Sequential()"
      ],
      "metadata": {
        "id": "DOBpPbv5Aaog"
      },
      "execution_count": null,
      "outputs": []
    },
    {
      "cell_type": "markdown",
      "metadata": {
        "id": "iitAFJS_ABUn"
      },
      "source": [
        "### Adding the input layer and the first hidden layer"
      ]
    },
    {
      "cell_type": "code",
      "source": [
        "ann.add(tf.keras.layers.Dense(units = 6, activation = 'relu'))"
      ],
      "metadata": {
        "id": "dUxBhY7OCFJ2"
      },
      "execution_count": null,
      "outputs": []
    },
    {
      "cell_type": "markdown",
      "metadata": {
        "id": "-lb4kK_wAKbs"
      },
      "source": [
        "### Adding the second hidden layer"
      ]
    },
    {
      "cell_type": "code",
      "source": [
        "ann.add(tf.keras.layers.Dense(units = 6, activation = 'relu'))"
      ],
      "metadata": {
        "id": "RJjtHS3mDLYM"
      },
      "execution_count": null,
      "outputs": []
    },
    {
      "cell_type": "markdown",
      "metadata": {
        "id": "jwMOmKb3AdBY"
      },
      "source": [
        "### Adding the output layer"
      ]
    },
    {
      "cell_type": "code",
      "source": [
        "ann.add(tf.keras.layers.Dense(units = 1))"
      ],
      "metadata": {
        "id": "6Y4oijW5DMGa"
      },
      "execution_count": null,
      "outputs": []
    },
    {
      "cell_type": "markdown",
      "metadata": {
        "id": "fq7e4fF6A1yy"
      },
      "source": [
        "## Part 3 - Training the ANN"
      ]
    },
    {
      "cell_type": "markdown",
      "metadata": {
        "id": "qDeylAs2An25"
      },
      "source": [
        "### Compiling the ANN"
      ]
    },
    {
      "cell_type": "code",
      "source": [
        "ann.compile(optimizer = 'adam', loss = 'mean_squared_error')"
      ],
      "metadata": {
        "id": "Cyk_BtTYDmzx"
      },
      "execution_count": null,
      "outputs": []
    },
    {
      "cell_type": "markdown",
      "metadata": {
        "id": "YjVuiybYOo7r"
      },
      "source": [
        "### Training the ANN model on the Training set"
      ]
    },
    {
      "cell_type": "code",
      "source": [
        "ann.fit(x_train, y_train, epochs = 100, batch_size = 32)"
      ],
      "metadata": {
        "colab": {
          "base_uri": "https://localhost:8080/"
        },
        "id": "lYp8ny9NEOa0",
        "outputId": "9e8fba72-e3a4-4dd3-ebee-446c6a99be8a"
      },
      "execution_count": null,
      "outputs": [
        {
          "output_type": "stream",
          "name": "stdout",
          "text": [
            "Epoch 1/100\n",
            "240/240 [==============================] - 2s 3ms/step - loss: 37579.6484\n",
            "Epoch 2/100\n",
            "240/240 [==============================] - 1s 2ms/step - loss: 506.3398\n",
            "Epoch 3/100\n",
            "240/240 [==============================] - 0s 2ms/step - loss: 494.1826\n",
            "Epoch 4/100\n",
            "240/240 [==============================] - 0s 2ms/step - loss: 478.1184\n",
            "Epoch 5/100\n",
            "240/240 [==============================] - 0s 2ms/step - loss: 459.8537\n",
            "Epoch 6/100\n",
            "240/240 [==============================] - 0s 2ms/step - loss: 439.2086\n",
            "Epoch 7/100\n",
            "240/240 [==============================] - 0s 2ms/step - loss: 415.5004\n",
            "Epoch 8/100\n",
            "240/240 [==============================] - 0s 2ms/step - loss: 390.6216\n",
            "Epoch 9/100\n",
            "240/240 [==============================] - 0s 2ms/step - loss: 364.0114\n",
            "Epoch 10/100\n",
            "240/240 [==============================] - 1s 3ms/step - loss: 335.6614\n",
            "Epoch 11/100\n",
            "240/240 [==============================] - 1s 3ms/step - loss: 307.2592\n",
            "Epoch 12/100\n",
            "240/240 [==============================] - 1s 3ms/step - loss: 277.9302\n",
            "Epoch 13/100\n",
            "240/240 [==============================] - 1s 3ms/step - loss: 249.3823\n",
            "Epoch 14/100\n",
            "240/240 [==============================] - 0s 2ms/step - loss: 220.7215\n",
            "Epoch 15/100\n",
            "240/240 [==============================] - 1s 2ms/step - loss: 194.5506\n",
            "Epoch 16/100\n",
            "240/240 [==============================] - 1s 3ms/step - loss: 168.1114\n",
            "Epoch 17/100\n",
            "240/240 [==============================] - 1s 3ms/step - loss: 144.8050\n",
            "Epoch 18/100\n",
            "240/240 [==============================] - 1s 4ms/step - loss: 123.2297\n",
            "Epoch 19/100\n",
            "240/240 [==============================] - 1s 2ms/step - loss: 104.3355\n",
            "Epoch 20/100\n",
            "240/240 [==============================] - 0s 2ms/step - loss: 87.7982\n",
            "Epoch 21/100\n",
            "240/240 [==============================] - 0s 2ms/step - loss: 73.5338\n",
            "Epoch 22/100\n",
            "240/240 [==============================] - 0s 2ms/step - loss: 61.2552\n",
            "Epoch 23/100\n",
            "240/240 [==============================] - 0s 2ms/step - loss: 51.6607\n",
            "Epoch 24/100\n",
            "240/240 [==============================] - 0s 2ms/step - loss: 44.2258\n",
            "Epoch 25/100\n",
            "240/240 [==============================] - 0s 2ms/step - loss: 38.5458\n",
            "Epoch 26/100\n",
            "240/240 [==============================] - 1s 2ms/step - loss: 35.1687\n",
            "Epoch 27/100\n",
            "240/240 [==============================] - 0s 2ms/step - loss: 32.9405\n",
            "Epoch 28/100\n",
            "240/240 [==============================] - 1s 6ms/step - loss: 31.2428\n",
            "Epoch 29/100\n",
            "240/240 [==============================] - 1s 5ms/step - loss: 30.4752\n",
            "Epoch 30/100\n",
            "240/240 [==============================] - 2s 7ms/step - loss: 29.5332\n",
            "Epoch 31/100\n",
            "240/240 [==============================] - 1s 3ms/step - loss: 29.4871\n",
            "Epoch 32/100\n",
            "240/240 [==============================] - 1s 2ms/step - loss: 28.8392\n",
            "Epoch 33/100\n",
            "240/240 [==============================] - 0s 2ms/step - loss: 29.0306\n",
            "Epoch 34/100\n",
            "240/240 [==============================] - 1s 2ms/step - loss: 28.3269\n",
            "Epoch 35/100\n",
            "240/240 [==============================] - 0s 2ms/step - loss: 28.5470\n",
            "Epoch 36/100\n",
            "240/240 [==============================] - 0s 2ms/step - loss: 28.5405\n",
            "Epoch 37/100\n",
            "240/240 [==============================] - 0s 2ms/step - loss: 27.4265\n",
            "Epoch 38/100\n",
            "240/240 [==============================] - 0s 2ms/step - loss: 27.4271\n",
            "Epoch 39/100\n",
            "240/240 [==============================] - 0s 2ms/step - loss: 28.0007\n",
            "Epoch 40/100\n",
            "240/240 [==============================] - 0s 2ms/step - loss: 27.4319\n",
            "Epoch 41/100\n",
            "240/240 [==============================] - 0s 2ms/step - loss: 27.1396\n",
            "Epoch 42/100\n",
            "240/240 [==============================] - 0s 2ms/step - loss: 28.0230\n",
            "Epoch 43/100\n",
            "240/240 [==============================] - 1s 2ms/step - loss: 27.2177\n",
            "Epoch 44/100\n",
            "240/240 [==============================] - 1s 2ms/step - loss: 27.2461\n",
            "Epoch 45/100\n",
            "240/240 [==============================] - 1s 2ms/step - loss: 26.8823\n",
            "Epoch 46/100\n",
            "240/240 [==============================] - 0s 2ms/step - loss: 27.4102\n",
            "Epoch 47/100\n",
            "240/240 [==============================] - 1s 2ms/step - loss: 27.3192\n",
            "Epoch 48/100\n",
            "240/240 [==============================] - 1s 3ms/step - loss: 27.2680\n",
            "Epoch 49/100\n",
            "240/240 [==============================] - 1s 2ms/step - loss: 27.5502\n",
            "Epoch 50/100\n",
            "240/240 [==============================] - 1s 2ms/step - loss: 27.4935\n",
            "Epoch 51/100\n",
            "240/240 [==============================] - 0s 2ms/step - loss: 26.8199\n",
            "Epoch 52/100\n",
            "240/240 [==============================] - 1s 3ms/step - loss: 27.6278\n",
            "Epoch 53/100\n",
            "240/240 [==============================] - 1s 3ms/step - loss: 27.1753\n",
            "Epoch 54/100\n",
            "240/240 [==============================] - 1s 3ms/step - loss: 26.7754\n",
            "Epoch 55/100\n",
            "240/240 [==============================] - 1s 3ms/step - loss: 26.8240\n",
            "Epoch 56/100\n",
            "240/240 [==============================] - 0s 2ms/step - loss: 26.3364\n",
            "Epoch 57/100\n",
            "240/240 [==============================] - 0s 2ms/step - loss: 27.2529\n",
            "Epoch 58/100\n",
            "240/240 [==============================] - 0s 2ms/step - loss: 26.5137\n",
            "Epoch 59/100\n",
            "240/240 [==============================] - 0s 2ms/step - loss: 26.6195\n",
            "Epoch 60/100\n",
            "240/240 [==============================] - 0s 2ms/step - loss: 27.0589\n",
            "Epoch 61/100\n",
            "240/240 [==============================] - 0s 2ms/step - loss: 26.9375\n",
            "Epoch 62/100\n",
            "240/240 [==============================] - 0s 2ms/step - loss: 26.9650\n",
            "Epoch 63/100\n",
            "240/240 [==============================] - 0s 2ms/step - loss: 26.4669\n",
            "Epoch 64/100\n",
            "240/240 [==============================] - 0s 2ms/step - loss: 26.9738\n",
            "Epoch 65/100\n",
            "240/240 [==============================] - 0s 2ms/step - loss: 26.7445\n",
            "Epoch 66/100\n",
            "240/240 [==============================] - 0s 2ms/step - loss: 26.9975\n",
            "Epoch 67/100\n",
            "240/240 [==============================] - 0s 2ms/step - loss: 27.1991\n",
            "Epoch 68/100\n",
            "240/240 [==============================] - 1s 2ms/step - loss: 26.8808\n",
            "Epoch 69/100\n",
            "240/240 [==============================] - 1s 2ms/step - loss: 26.7213\n",
            "Epoch 70/100\n",
            "240/240 [==============================] - 1s 2ms/step - loss: 26.6453\n",
            "Epoch 71/100\n",
            "240/240 [==============================] - 1s 2ms/step - loss: 27.2433\n",
            "Epoch 72/100\n",
            "240/240 [==============================] - 1s 2ms/step - loss: 26.7077\n",
            "Epoch 73/100\n",
            "240/240 [==============================] - 0s 2ms/step - loss: 26.6681\n",
            "Epoch 74/100\n",
            "240/240 [==============================] - 0s 2ms/step - loss: 27.2980\n",
            "Epoch 75/100\n",
            "240/240 [==============================] - 0s 2ms/step - loss: 26.8505\n",
            "Epoch 76/100\n",
            "240/240 [==============================] - 1s 3ms/step - loss: 27.5546\n",
            "Epoch 77/100\n",
            "240/240 [==============================] - 1s 3ms/step - loss: 27.4770\n",
            "Epoch 78/100\n",
            "240/240 [==============================] - 1s 3ms/step - loss: 27.1745\n",
            "Epoch 79/100\n",
            "240/240 [==============================] - 1s 3ms/step - loss: 26.8279\n",
            "Epoch 80/100\n",
            "240/240 [==============================] - 1s 2ms/step - loss: 26.7086\n",
            "Epoch 81/100\n",
            "240/240 [==============================] - 0s 2ms/step - loss: 26.6146\n",
            "Epoch 82/100\n",
            "240/240 [==============================] - 0s 2ms/step - loss: 27.4108\n",
            "Epoch 83/100\n",
            "240/240 [==============================] - 0s 2ms/step - loss: 26.6712\n",
            "Epoch 84/100\n",
            "240/240 [==============================] - 0s 2ms/step - loss: 26.8348\n",
            "Epoch 85/100\n",
            "240/240 [==============================] - 1s 2ms/step - loss: 27.8208\n",
            "Epoch 86/100\n",
            "240/240 [==============================] - 0s 2ms/step - loss: 26.7634\n",
            "Epoch 87/100\n",
            "240/240 [==============================] - 0s 2ms/step - loss: 26.9924\n",
            "Epoch 88/100\n",
            "240/240 [==============================] - 0s 2ms/step - loss: 26.3911\n",
            "Epoch 89/100\n",
            "240/240 [==============================] - 1s 2ms/step - loss: 27.8463\n",
            "Epoch 90/100\n",
            "240/240 [==============================] - 1s 2ms/step - loss: 27.1616\n",
            "Epoch 91/100\n",
            "240/240 [==============================] - 0s 2ms/step - loss: 27.0125\n",
            "Epoch 92/100\n",
            "240/240 [==============================] - 0s 2ms/step - loss: 26.9190\n",
            "Epoch 93/100\n",
            "240/240 [==============================] - 0s 2ms/step - loss: 26.6673\n",
            "Epoch 94/100\n",
            "240/240 [==============================] - 0s 2ms/step - loss: 27.1056\n",
            "Epoch 95/100\n",
            "240/240 [==============================] - 0s 2ms/step - loss: 27.0943\n",
            "Epoch 96/100\n",
            "240/240 [==============================] - 0s 2ms/step - loss: 27.5728\n",
            "Epoch 97/100\n",
            "240/240 [==============================] - 1s 2ms/step - loss: 26.6512\n",
            "Epoch 98/100\n",
            "240/240 [==============================] - 0s 2ms/step - loss: 27.1404\n",
            "Epoch 99/100\n",
            "240/240 [==============================] - 0s 2ms/step - loss: 27.3380\n",
            "Epoch 100/100\n",
            "240/240 [==============================] - 1s 2ms/step - loss: 27.0473\n"
          ]
        },
        {
          "output_type": "execute_result",
          "data": {
            "text/plain": [
              "<keras.callbacks.History at 0x7f6abce3d3c0>"
            ]
          },
          "metadata": {},
          "execution_count": 9
        }
      ]
    },
    {
      "cell_type": "markdown",
      "metadata": {
        "id": "0H0zKKNEBLD5"
      },
      "source": [
        "### Predicting the results of the Test set"
      ]
    },
    {
      "cell_type": "code",
      "source": [
        "y_pred = ann.predict(x_test)\n",
        "np.set_printoptions(precision = 2)\n",
        "print(np.concatenate((y_pred.reshape(len(y_pred), 1), y_test.reshape(len(y_test), 1)), 1))"
      ],
      "metadata": {
        "colab": {
          "base_uri": "https://localhost:8080/"
        },
        "id": "uCXZ29UhEZSP",
        "outputId": "0db0b658-3790-426c-bc63-94e10981b809"
      },
      "execution_count": null,
      "outputs": [
        {
          "output_type": "stream",
          "name": "stdout",
          "text": [
            "60/60 [==============================] - 0s 3ms/step\n",
            "[[429.86 431.23]\n",
            " [460.83 460.01]\n",
            " [464.31 461.14]\n",
            " ...\n",
            " [471.55 473.26]\n",
            " [438.37 438.  ]\n",
            " [457.57 463.28]]\n"
          ]
        }
      ]
    }
  ]
}